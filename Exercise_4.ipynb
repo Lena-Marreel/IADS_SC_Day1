{
  "nbformat": 4,
  "nbformat_minor": 0,
  "metadata": {
    "kernelspec": {
      "display_name": "Python 3",
      "language": "python",
      "name": "python3"
    },
    "language_info": {
      "codemirror_mode": {
        "name": "ipython",
        "version": 3
      },
      "file_extension": ".py",
      "mimetype": "text/x-python",
      "name": "python",
      "nbconvert_exporter": "python",
      "pygments_lexer": "ipython3",
      "version": "3.6.5"
    },
    "colab": {
      "name": "Exercise_4.ipynb",
      "provenance": [],
      "include_colab_link": true
    }
  },
  "cells": [
    {
      "cell_type": "markdown",
      "metadata": {
        "id": "view-in-github",
        "colab_type": "text"
      },
      "source": [
        "<a href=\"https://colab.research.google.com/github/Lena-Marreel/IADS_SC_Day1/blob/main/Exercise_4.ipynb\" target=\"_parent\"><img src=\"https://colab.research.google.com/assets/colab-badge.svg\" alt=\"Open In Colab\"/></a>"
      ]
    },
    {
      "cell_type": "markdown",
      "metadata": {
        "id": "ww0ODXCJHsCi"
      },
      "source": [
        "### Strings\n",
        "Strings are ordered text based data which are represented by enclosing the same in single/double/triple quotes."
      ]
    },
    {
      "cell_type": "code",
      "metadata": {
        "id": "55udLE1IHsCj"
      },
      "source": [
        "String0 = 'Paris is beautiful'\n",
        "String1 = \"Paris is beautiful\"\n",
        "String2 = '''Paris\n",
        "is\n",
        "beautiful'''"
      ],
      "execution_count": null,
      "outputs": []
    },
    {
      "cell_type": "code",
      "metadata": {
        "id": "U0jyylXWHsCk",
        "outputId": "7e791cf3-3fdc-4bb6-f61c-4e886a6691d9",
        "colab": {
          "base_uri": "https://localhost:8080/"
        }
      },
      "source": [
        "print(String0 , type(String0)) \n",
        "print(String1, type(String1))\n",
        "print(String2, type(String2))"
      ],
      "execution_count": null,
      "outputs": [
        {
          "output_type": "stream",
          "name": "stdout",
          "text": [
            "Paris is beautiful <class 'str'>\n",
            "Paris is beautiful <class 'str'>\n",
            "Paris\n",
            "is\n",
            "beautiful <class 'str'>\n"
          ]
        }
      ]
    },
    {
      "cell_type": "code",
      "metadata": {
        "id": "AAuBHA88HsCl",
        "outputId": "0eeb8c0c-1134-4707-ba6a-fbd852442bc2",
        "colab": {
          "base_uri": "https://localhost:8080/"
        }
      },
      "source": [
        "print(String0[4]) # string = list but with character elements\n",
        "                  # so you can treat them the same (as long as they are the same datatype)\n",
        "print(String0[5]) # spaces also count as an element in the string -> returns seemingly nothing\n",
        "print(String0[5:8]) # same as with lists (see excercise 3) = 5th up to but not including 8th index\n",
        "                    # the element thing does not work here, so that only works when you start from teh start of the list\n",
        "print(String0[4:])"
      ],
      "execution_count": null,
      "outputs": [
        {
          "output_type": "stream",
          "name": "stdout",
          "text": [
            "s\n",
            " \n",
            " is\n",
            "s is beautiful\n"
          ]
        }
      ]
    },
    {
      "cell_type": "code",
      "metadata": {
        "id": "7awqW-Z4HsCl",
        "outputId": "38ae2afc-e630-4dd6-ef31-02709ca00341"
      },
      "source": [
        "print(String0.find('ri')) # returns index of a string value i.e., a character value \n",
        "print(String0.find('za')) # -1 because this character combo does not appear in string"
      ],
      "execution_count": null,
      "outputs": [
        {
          "output_type": "stream",
          "text": [
            "2\n",
            "-1\n"
          ],
          "name": "stdout"
        }
      ]
    },
    {
      "cell_type": "markdown",
      "source": [
        "below useful functions to adjust small things in a string in python. "
      ],
      "metadata": {
        "id": "ezQM8WnQYdc8"
      }
    },
    {
      "cell_type": "code",
      "metadata": {
        "id": "UAT1Sx2-HsCm",
        "outputId": "3c2d1b5c-0b1b-4ff3-8f3c-9a1d0994e6a5",
        "colab": {
          "base_uri": "https://localhost:8080/"
        }
      },
      "source": [
        "String3 = 'observe the first letter in this sentence.'\n",
        "print(String3.capitalize())"
      ],
      "execution_count": null,
      "outputs": [
        {
          "output_type": "stream",
          "name": "stdout",
          "text": [
            "observe the first letter in this 4sentence.\n",
            "Observe the first letter in this sentence.\n"
          ]
        }
      ]
    },
    {
      "cell_type": "code",
      "metadata": {
        "id": "72JwNj1wHsCm",
        "outputId": "22981555-a4db-4f4a-8799-569ef61696c5",
        "colab": {
          "base_uri": "https://localhost:8080/",
          "height": 35
        }
      },
      "source": [
        "String0.center(70)"
      ],
      "execution_count": null,
      "outputs": [
        {
          "output_type": "execute_result",
          "data": {
            "text/plain": [
              "'                          Paris is beautiful                          '"
            ],
            "application/vnd.google.colaboratory.intrinsic+json": {
              "type": "string"
            }
          },
          "metadata": {},
          "execution_count": 3
        }
      ]
    },
    {
      "cell_type": "code",
      "metadata": {
        "id": "6yJ3gsG6HsCn",
        "outputId": "b20e7cf9-aa5c-49d7-a297-676138f37ec6"
      },
      "source": [
        "print(String0.endswith('s')) # false because did not end with s"
      ],
      "execution_count": null,
      "outputs": [
        {
          "output_type": "stream",
          "text": [
            "False\n"
          ],
          "name": "stdout"
        }
      ]
    },
    {
      "cell_type": "code",
      "metadata": {
        "id": "FjC2JFkmHsCo",
        "outputId": "85c5ca5a-1a31-4e92-e7a5-366ead925f9f"
      },
      "source": [
        "print(String0.count('a',0)) # count nr of times letter 'a' appears"
      ],
      "execution_count": null,
      "outputs": [
        {
          "output_type": "stream",
          "text": [
            "2\n"
          ],
          "name": "stdout"
        }
      ]
    },
    {
      "cell_type": "code",
      "metadata": {
        "id": "gxKXCa9PHsCp",
        "outputId": "8db0aaeb-1de9-4a73-a4fa-51f9f3beffc1"
      },
      "source": [
        "print(String0.count('a',1,10)) # count nr of times letter 'a' appears from the 1st to the 10th element"
      ],
      "execution_count": null,
      "outputs": [
        {
          "output_type": "stream",
          "text": [
            "1\n"
          ],
          "name": "stdout"
        }
      ]
    },
    {
      "cell_type": "code",
      "metadata": {
        "id": "vId7rFoGHsCp",
        "outputId": "cdfa24bd-bae0-480d-edf8-dff94b9f71f0",
        "colab": {
          "base_uri": "https://localhost:8080/",
          "height": 35
        }
      },
      "source": [
        "String0.upper() # write the entire string in capotal"
      ],
      "execution_count": null,
      "outputs": [
        {
          "output_type": "execute_result",
          "data": {
            "text/plain": [
              "'PARIS IS BEAUTIFUL'"
            ],
            "application/vnd.google.colaboratory.intrinsic+json": {
              "type": "string"
            }
          },
          "metadata": {},
          "execution_count": 4
        }
      ]
    },
    {
      "cell_type": "markdown",
      "metadata": {
        "id": "XNurNtUGHsCq"
      },
      "source": [
        "## Dictionaries\n",
        "Dictionaries are more used like a database because here you can index a particular sequence with your user defined string.\n",
        "\n",
        "To define a dictionary, equate a variable to { } or dict()"
      ]
    },
    {
      "cell_type": "code",
      "metadata": {
        "id": "fEWd6ZjmHsCq",
        "outputId": "21d145cb-1d68-4e74-f7b0-83c02259cef4"
      },
      "source": [
        "d0 = {}\n",
        "d1 = dict()\n",
        "print(type(d0), type(d1))"
      ],
      "execution_count": null,
      "outputs": [
        {
          "output_type": "stream",
          "text": [
            "<class 'dict'> <class 'dict'>\n"
          ],
          "name": "stdout"
        }
      ]
    },
    {
      "cell_type": "code",
      "metadata": {
        "id": "ablooHW5HsCr",
        "outputId": "ca754062-403d-4c3e-9cdb-0c7ef3772c51"
      },
      "source": [
        "# Dictionary works somewhat like a list but with an added capability of assigning it's own index style.\n",
        "# index keys HAVE to be unique (obviously)\n",
        "d0['One'] = 1\n",
        "d0['OneTwo'] = 12 \n",
        "print(d0)"
      ],
      "execution_count": null,
      "outputs": [
        {
          "output_type": "stream",
          "text": [
            "{'One': 1, 'OneTwo': 12}\n"
          ],
          "name": "stdout"
        }
      ]
    },
    {
      "cell_type": "code",
      "metadata": {
        "id": "o7jCRy8eHsCr",
        "outputId": "e69e7213-a2e6-4a78-ea86-5de8af9b19e3"
      },
      "source": [
        "# That is how a dictionary looks like. Now you are able to access '1' by the index value set at 'One'\n",
        "print(d0['One'])"
      ],
      "execution_count": null,
      "outputs": [
        {
          "output_type": "stream",
          "text": [
            "1\n"
          ],
          "name": "stdout"
        }
      ]
    },
    {
      "cell_type": "code",
      "metadata": {
        "id": "YH65DKKtHsCr"
      },
      "source": [
        "# Two lists which are related can be merged to form a dictionary.\n",
        "  # useful if you have a list an dyou want to give it different indexes\n",
        "  # instead of typing it out in a dict, simply make a second list and combine them (see next code block)\n",
        "keys = ['One', 'Two', 'Three', 'Four', 'Five']\n",
        "values = [1, 2, 3, 4, 5]"
      ],
      "execution_count": null,
      "outputs": []
    },
    {
      "cell_type": "code",
      "metadata": {
        "id": "SL22risrHsCs",
        "outputId": "ada66971-d7ef-4dae-d7a2-857ee7b20df6"
      },
      "source": [
        "# zip( ) function is used to combine two lists\n",
        "dictionary = dict(zip(keys, values))\n",
        "print(dictionary)"
      ],
      "execution_count": null,
      "outputs": [
        {
          "output_type": "stream",
          "text": [
            "{'One': 1, 'Two': 2, 'Three': 3, 'Four': 4, 'Five': 5}\n"
          ],
          "name": "stdout"
        }
      ]
    },
    {
      "cell_type": "markdown",
      "metadata": {
        "id": "aj-YwAu-HsCs"
      },
      "source": [
        "## Control Flow Statements\n",
        "\n",
        "https://www.tutorialspoint.com/python/python_if_else.htm"
      ]
    },
    {
      "cell_type": "code",
      "metadata": {
        "id": "30BalWc_HsCs",
        "outputId": "dac582b7-0d76-4113-9590-fc492c3723f4",
        "colab": {
          "base_uri": "https://localhost:8080/"
        }
      },
      "source": [
        "x = 12\n",
        "if x >10:\n",
        "    print(\"Hello\")"
      ],
      "execution_count": null,
      "outputs": [
        {
          "output_type": "stream",
          "name": "stdout",
          "text": [
            "Hello\n"
          ]
        }
      ]
    },
    {
      "cell_type": "code",
      "source": [
        "# importance of indentation in python\n",
        "y = 12\n",
        "if y >10:\n",
        "print(\"Hello\")"
      ],
      "metadata": {
        "id": "bx14ttDWekGN"
      },
      "execution_count": null,
      "outputs": []
    },
    {
      "cell_type": "code",
      "metadata": {
        "id": "TtqsIirfHsCs",
        "outputId": "0a5d91e3-d085-4993-ff71-b51ed4b296da"
      },
      "source": [
        "x = 12\n",
        "if x > 10:\n",
        "    print(\"hello\")\n",
        "else:\n",
        "    print(\"world\")"
      ],
      "execution_count": null,
      "outputs": [
        {
          "output_type": "stream",
          "text": [
            "hello\n"
          ],
          "name": "stdout"
        }
      ]
    },
    {
      "cell_type": "code",
      "metadata": {
        "id": "dW_LVyNwHsCt",
        "outputId": "0cd63b54-88e8-48fc-964e-9cd54cf756a9"
      },
      "source": [
        "x = 10\n",
        "y = 12\n",
        "if x > y:\n",
        "    print(\"x>y\")\n",
        "elif x < y: # else if\n",
        "    print(\"x<y\")\n",
        "else:\n",
        "    print(\"x=y\")"
      ],
      "execution_count": null,
      "outputs": [
        {
          "output_type": "stream",
          "text": [
            "x<y\n"
          ],
          "name": "stdout"
        }
      ]
    },
    {
      "cell_type": "code",
      "metadata": {
        "id": "fNGd2ZTSHsCt",
        "outputId": "cc93212d-bd1f-44cd-95a6-655cf8b7a984"
      },
      "source": [
        "x = 10\n",
        "y = 12\n",
        "if x > y:\n",
        "    print(\"x>y\")\n",
        "elif x < y:\n",
        "    print(\"x<y\")\n",
        "    if x==10:\n",
        "        print(\"x=10\")\n",
        "    else:\n",
        "        print(\"invalid\")\n",
        "else:\n",
        "    print(\"x=y\")"
      ],
      "execution_count": null,
      "outputs": [
        {
          "output_type": "stream",
          "text": [
            "x<y\n",
            "x=10\n"
          ],
          "name": "stdout"
        }
      ]
    },
    {
      "cell_type": "markdown",
      "metadata": {
        "id": "Vc8jtpXVHsCt"
      },
      "source": [
        "## Loops"
      ]
    },
    {
      "cell_type": "code",
      "metadata": {
        "id": "imO2uRoSHsCt",
        "outputId": "284d6850-1bf8-4161-9a39-50257fed8ff9",
        "colab": {
          "base_uri": "https://localhost:8080/"
        }
      },
      "source": [
        "for i in range(5): # for loop in python does automaticall len(range(5)) = 5 elements = 5 itterations\n",
        "    print(i)"
      ],
      "execution_count": null,
      "outputs": [
        {
          "output_type": "stream",
          "name": "stdout",
          "text": [
            "0\n",
            "1\n",
            "2\n",
            "3\n",
            "4\n"
          ]
        }
      ]
    },
    {
      "cell_type": "code",
      "source": [
        "# but the range function can not be used to fill a list up apparent, unless I have no clue how to use this =p \n",
        "a=range(5)\n",
        "print(a)\n",
        "# found the answer on day two \n",
        "aaa=list(range(5))\n",
        "print(aaa)\n",
        "list(range(10)) \n"
      ],
      "metadata": {
        "id": "Z8856VE0jaHq",
        "colab": {
          "base_uri": "https://localhost:8080/"
        },
        "outputId": "799dae20-1d5b-4c06-f488-1b218faeeb9e"
      },
      "execution_count": 3,
      "outputs": [
        {
          "output_type": "stream",
          "name": "stdout",
          "text": [
            "range(0, 5)\n",
            "[0, 1, 2, 3, 4]\n"
          ]
        },
        {
          "output_type": "execute_result",
          "data": {
            "text/plain": [
              "[0, 1, 2, 3, 4, 5, 6, 7, 8, 9]"
            ]
          },
          "metadata": {},
          "execution_count": 3
        }
      ]
    },
    {
      "cell_type": "code",
      "metadata": {
        "id": "N3YyX-NRHsCt",
        "outputId": "f94e0e2d-5827-47cd-c93c-d0d93802cdf0"
      },
      "source": [
        "list_of_lists = [[1, 2, 3], [4, 5, 6], [7, 8, 9]]\n",
        "for list1 in list_of_lists: # len(list_of_lists) = 3 because has 3 elements = 3 nested lists\n",
        "        print(list1)"
      ],
      "execution_count": null,
      "outputs": [
        {
          "output_type": "stream",
          "text": [
            "[1, 2, 3]\n",
            "[4, 5, 6]\n",
            "[7, 8, 9]\n"
          ],
          "name": "stdout"
        }
      ]
    },
    {
      "cell_type": "code",
      "source": [
        "list_of_lists = [[1, 2, 3], [4, 5, 6], [7, 8, 9]]\n",
        "for anIterName in list_of_lists: # essentially says for ever element in list_of_list \n",
        "                                 # = here 3 lists = 3 elements thus 3 itterations\n",
        "        print(anIterName)"
      ],
      "metadata": {
        "colab": {
          "base_uri": "https://localhost:8080/"
        },
        "id": "37LCHZbYg9-n",
        "outputId": "741bed22-14ca-4bc0-b809-27bf16dce665"
      },
      "execution_count": null,
      "outputs": [
        {
          "output_type": "stream",
          "name": "stdout",
          "text": [
            "[1, 2, 3]\n",
            "[4, 5, 6]\n",
            "[7, 8, 9]\n"
          ]
        }
      ]
    },
    {
      "cell_type": "code",
      "metadata": {
        "id": "wtMW7Eq0HsCu",
        "outputId": "fc09358a-53bd-47f3-d8c7-5a16be40a393"
      },
      "source": [
        "list_of_lists = [[1, 2, 3], [4, 5, 6], [7, 8, 9]]\n",
        "for list1 in list_of_lists: # go through each of the elements in list_of_lists\n",
        "    for x in list1: # THEN go through all those subelements\n",
        "        print(x)"
      ],
      "execution_count": null,
      "outputs": [
        {
          "output_type": "stream",
          "text": [
            "1\n",
            "2\n",
            "3\n",
            "4\n",
            "5\n",
            "6\n",
            "7\n",
            "8\n",
            "9\n"
          ],
          "name": "stdout"
        }
      ]
    },
    {
      "cell_type": "markdown",
      "metadata": {
        "id": "CgiqGz42HsCu"
      },
      "source": [
        "## While"
      ]
    },
    {
      "cell_type": "code",
      "metadata": {
        "id": "YbpkK5hRHsCu",
        "outputId": "b3661d38-3b05-40f5-cf83-ffb45277e784"
      },
      "source": [
        "i = 1\n",
        "while i < 3:\n",
        "    print(i ** 2)\n",
        "    i = i+1\n",
        "print('Bye')"
      ],
      "execution_count": null,
      "outputs": [
        {
          "output_type": "stream",
          "text": [
            "1\n",
            "4\n",
            "Bye\n"
          ],
          "name": "stdout"
        }
      ]
    },
    {
      "cell_type": "markdown",
      "metadata": {
        "id": "WFDyHlc1HsCu"
      },
      "source": [
        "## Break\n",
        "As the name says. It is used to break out of a loop when a condition becomes true when executing the loop."
      ]
    },
    {
      "cell_type": "code",
      "metadata": {
        "id": "m1EhczXLHsCv",
        "outputId": "19442ed2-06c2-4395-ee9b-d9148b957ffd"
      },
      "source": [
        "for i in range(100):\n",
        "    print(i)\n",
        "    if i>=7:\n",
        "        break"
      ],
      "execution_count": null,
      "outputs": [
        {
          "output_type": "stream",
          "text": [
            "0\n",
            "1\n",
            "2\n",
            "3\n",
            "4\n",
            "5\n",
            "6\n",
            "7\n"
          ],
          "name": "stdout"
        }
      ]
    },
    {
      "cell_type": "markdown",
      "metadata": {
        "id": "c4f58ztDHsCv"
      },
      "source": [
        "## Continue\n",
        "This continues the rest of the loop. Sometimes when a condition is satisfied there are chances of the loop getting terminated. This can be avoided using continue statement."
      ]
    },
    {
      "cell_type": "code",
      "metadata": {
        "id": "RxBaXlZ8HsCv",
        "outputId": "6290de19-8327-4c62-ed0b-209b8cbc7016"
      },
      "source": [
        "for i in range(10):\n",
        "    if i>4:\n",
        "        print(\"The end.\")\n",
        "        continue\n",
        "    elif i<7:\n",
        "        print(i)"
      ],
      "execution_count": null,
      "outputs": [
        {
          "output_type": "stream",
          "text": [
            "0\n",
            "1\n",
            "2\n",
            "3\n",
            "4\n",
            "The end.\n",
            "The end.\n",
            "The end.\n",
            "The end.\n",
            "The end.\n"
          ],
          "name": "stdout"
        }
      ]
    },
    {
      "cell_type": "markdown",
      "metadata": {
        "id": "5N-2y4mYHsCv"
      },
      "source": [
        "### List Comprehensions\n",
        "Python makes it simple to generate a required list with a single line of code using list comprehensions. For example If i need to generate multiples of say 27 I write the code using for loop as,"
      ]
    },
    {
      "cell_type": "code",
      "metadata": {
        "id": "-g_CB3YsHsCv",
        "outputId": "20a17a4c-46b8-460e-9185-384b0e324cf7"
      },
      "source": [
        "res = []\n",
        "for i in range(1,11):\n",
        "    x = 27*i\n",
        "    res.append(x) # equivqlent in matlab res = [res,x]\n",
        "print(res)"
      ],
      "execution_count": null,
      "outputs": [
        {
          "output_type": "stream",
          "text": [
            "[27, 54, 81, 108, 135, 162, 189, 216, 243, 270]\n"
          ],
          "name": "stdout"
        }
      ]
    },
    {
      "cell_type": "markdown",
      "metadata": {
        "id": "sNY2ge15HsCv"
      },
      "source": [
        "Since you are generating another list altogether and that is what is required, List comprehensions is a more efficient way to solve this problem."
      ]
    },
    {
      "cell_type": "code",
      "metadata": {
        "id": "LFIZCaZlHsCw",
        "outputId": "ce9bd491-f428-4736-8fab-cb05dc8b6504"
      },
      "source": [
        "[27*x for x in range(1,11)] # essentially for loop in 1 line\n",
        "                            # https://blog.finxter.com/python-one-line-for-loop-a-simple-tutorial/\n",
        "# list comprehension -> for loops and if statement combo https://blog.finxter.com/list-comprehension/\n",
        "# probably not possible for all"
      ],
      "execution_count": null,
      "outputs": [
        {
          "output_type": "execute_result",
          "data": {
            "text/plain": [
              "[27, 54, 81, 108, 135, 162, 189, 216, 243, 270]"
            ]
          },
          "metadata": {
            "tags": []
          },
          "execution_count": 66
        }
      ]
    },
    {
      "cell_type": "code",
      "metadata": {
        "id": "sZer4U_WHsCw"
      },
      "source": [
        ""
      ],
      "execution_count": null,
      "outputs": []
    }
  ]
}