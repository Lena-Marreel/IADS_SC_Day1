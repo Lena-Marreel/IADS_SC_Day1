{
  "nbformat": 4,
  "nbformat_minor": 0,
  "metadata": {
    "kernelspec": {
      "display_name": "Python 3",
      "language": "python",
      "name": "python3"
    },
    "language_info": {
      "codemirror_mode": {
        "name": "ipython",
        "version": 3
      },
      "file_extension": ".py",
      "mimetype": "text/x-python",
      "name": "python",
      "nbconvert_exporter": "python",
      "pygments_lexer": "ipython3",
      "version": "3.6.5"
    },
    "colab": {
      "name": "Exercise_2.ipynb",
      "provenance": [],
      "include_colab_link": true
    }
  },
  "cells": [
    {
      "cell_type": "markdown",
      "metadata": {
        "id": "view-in-github",
        "colab_type": "text"
      },
      "source": [
        "<a href=\"https://colab.research.google.com/github/Lena-Marreel/IADS_SC_Day1/blob/main/Exercise_2.ipynb\" target=\"_parent\"><img src=\"https://colab.research.google.com/assets/colab-badge.svg\" alt=\"Open In Colab\"/></a>"
      ]
    },
    {
      "cell_type": "markdown",
      "metadata": {
        "id": "cWwlaV5cHey3"
      },
      "source": [
        "### Variables\n",
        "A name that is used to denote something or a value is called a variable. In python, variables can be declared and values can be assigned to it as follows,"
      ]
    },
    {
      "cell_type": "code",
      "metadata": {
        "id": "X2tuLpgoHey4"
      },
      "source": [
        "\n",
        "x = 2\n",
        "y = 5\n",
        "xy = 'Hello'"
      ],
      "execution_count": null,
      "outputs": []
    },
    {
      "cell_type": "code",
      "metadata": {
        "id": "NYILo2YiHey5",
        "outputId": "49740503-9fe9-4da3-f274-a5a5195c8a6a"
      },
      "source": [
        "print(x+y, xy)"
      ],
      "execution_count": null,
      "outputs": [
        {
          "output_type": "stream",
          "text": [
            "7 Hello\n"
          ],
          "name": "stdout"
        }
      ]
    },
    {
      "cell_type": "code",
      "metadata": {
        "id": "BI4anghWHey6",
        "outputId": "00872830-9dbf-401e-db78-5d7399ac54fd"
      },
      "source": [
        "# Multiple variables can be assigned with the same value\n",
        "\n",
        "x = y = 1\n",
        "\n",
        "print(x,y)"
      ],
      "execution_count": null,
      "outputs": [
        {
          "output_type": "stream",
          "text": [
            "1 1\n"
          ],
          "name": "stdout"
        }
      ]
    },
    {
      "cell_type": "markdown",
      "metadata": {
        "id": "sGG8ArhZHey6"
      },
      "source": [
        "### Operators\n",
        "\n",
        "#### Arithmetic Operators\n",
        "\n",
        "| Symbol | Task Performed |\n",
        "|----|---|\n",
        "| +  | Addition |\n",
        "| -  | Subtraction |\n",
        "| /  | division |\n",
        "| %  | mod |\n",
        "| *  | multiplication |\n",
        "| //  | floor division |\n",
        "| **  | to the power of |"
      ]
    },
    {
      "cell_type": "code",
      "metadata": {
        "id": "6-wbCWEJHey7",
        "outputId": "fae98893-c7bb-41c3-9242-5f8aaac22bab"
      },
      "source": [
        "1+2"
      ],
      "execution_count": null,
      "outputs": [
        {
          "output_type": "execute_result",
          "data": {
            "text/plain": [
              "3"
            ]
          },
          "metadata": {
            "tags": []
          },
          "execution_count": 7
        }
      ]
    },
    {
      "cell_type": "code",
      "metadata": {
        "id": "ThLzLxExHey7",
        "outputId": "a45e5053-14d0-48fa-a8ef-dc3c49eee699"
      },
      "source": [
        "2-1"
      ],
      "execution_count": null,
      "outputs": [
        {
          "output_type": "execute_result",
          "data": {
            "text/plain": [
              "1"
            ]
          },
          "metadata": {
            "tags": []
          },
          "execution_count": 8
        }
      ]
    },
    {
      "cell_type": "code",
      "metadata": {
        "id": "IkhCStFYHey7",
        "outputId": "8dcd8e1b-da69-4828-832e-3efe07d73a29"
      },
      "source": [
        "1*2"
      ],
      "execution_count": null,
      "outputs": [
        {
          "output_type": "execute_result",
          "data": {
            "text/plain": [
              "2"
            ]
          },
          "metadata": {
            "tags": []
          },
          "execution_count": 9
        }
      ]
    },
    {
      "cell_type": "code",
      "metadata": {
        "id": "FILL-bHDHey8",
        "outputId": "6a751c86-9d64-4c34-a2a2-3f07fd6fb746"
      },
      "source": [
        "1/2"
      ],
      "execution_count": null,
      "outputs": [
        {
          "output_type": "execute_result",
          "data": {
            "text/plain": [
              "0.5"
            ]
          },
          "metadata": {
            "tags": []
          },
          "execution_count": 10
        }
      ]
    },
    {
      "cell_type": "code",
      "metadata": {
        "id": "EGAkuQ58Hey8",
        "outputId": "0a33829b-7622-4cb1-fd8f-224a20f63c2a",
        "colab": {
          "base_uri": "https://localhost:8080/"
        }
      },
      "source": [
        "15/10 # answer = 1.5 -> so remainder is 0.5 = '5'\n",
        "      # another way to think about it is the tail devisions in primary school '10 will fit once in 15' and leaves 5\n",
        "print(15%10) # mod = give the remainder after devision \n"
      ],
      "execution_count": 3,
      "outputs": [
        {
          "output_type": "stream",
          "name": "stdout",
          "text": [
            "5\n"
          ]
        },
        {
          "output_type": "execute_result",
          "data": {
            "text/plain": [
              "1.5"
            ]
          },
          "metadata": {},
          "execution_count": 3
        }
      ]
    },
    {
      "cell_type": "code",
      "metadata": {
        "id": "xpO9xdgyHey8",
        "outputId": "edce3d2c-5fdf-4f47-a9a8-6c024885e77a",
        "colab": {
          "base_uri": "https://localhost:8080/"
        }
      },
      "source": [
        "#Floor division is nothing but converting the result so obtained to the nearest integer.\n",
        "print(2.8/2.0)\n",
        "print(2.8//2.0) # basically means devide and round down (to the floor) to the nearest integer"
      ],
      "execution_count": null,
      "outputs": [
        {
          "output_type": "stream",
          "name": "stdout",
          "text": [
            "1.4\n",
            "1.0\n"
          ]
        }
      ]
    },
    {
      "cell_type": "markdown",
      "metadata": {
        "id": "N4mnMEp0Hey8"
      },
      "source": [
        "## Relational Operators\n",
        "| Symbol | Task Performed |\n",
        "|----|---|\n",
        "| == | True, if it is equal |\n",
        "| !=  | True, if not equal to |\n",
        "| < | less than |\n",
        "| > | greater than |\n",
        "| <=  | less than or equal to |\n",
        "| >=  | greater than or equal to |"
      ]
    },
    {
      "cell_type": "code",
      "metadata": {
        "id": "JExkowyRHey9"
      },
      "source": [
        "z = 1"
      ],
      "execution_count": null,
      "outputs": []
    },
    {
      "cell_type": "code",
      "metadata": {
        "id": "2Kzl2rv4Hey9",
        "outputId": "878d79f9-240e-4683-e104-9bb5e5898aa1"
      },
      "source": [
        "z == 1"
      ],
      "execution_count": null,
      "outputs": [
        {
          "output_type": "execute_result",
          "data": {
            "text/plain": [
              "True"
            ]
          },
          "metadata": {
            "tags": []
          },
          "execution_count": 15
        }
      ]
    },
    {
      "cell_type": "code",
      "metadata": {
        "id": "7gi06LjlHey9",
        "outputId": "8dee6d4b-6010-4079-f7f7-6c018950ba8e"
      },
      "source": [
        "z > 1"
      ],
      "execution_count": null,
      "outputs": [
        {
          "output_type": "execute_result",
          "data": {
            "text/plain": [
              "False"
            ]
          },
          "metadata": {
            "tags": []
          },
          "execution_count": 16
        }
      ]
    },
    {
      "cell_type": "markdown",
      "source": [
        "below are using functions "
      ],
      "metadata": {
        "id": "gAl7AJVi2E2g"
      }
    },
    {
      "cell_type": "code",
      "metadata": {
        "id": "qTOszABhHey-",
        "outputId": "c66d0e8c-a6a0-40e0-ee63-c381c95f4db0"
      },
      "source": [
        "print(round(5.6231))\n",
        "print(round(4.55892, 2))"
      ],
      "execution_count": null,
      "outputs": [
        {
          "output_type": "stream",
          "text": [
            "6\n",
            "4.56\n"
          ],
          "name": "stdout"
        }
      ]
    },
    {
      "cell_type": "code",
      "metadata": {
        "id": "egj5qSNfHey-",
        "outputId": "b7b1d484-01bd-4440-b519-55c53c87f3a9"
      },
      "source": [
        "divmod(9,4)"
      ],
      "execution_count": null,
      "outputs": [
        {
          "output_type": "execute_result",
          "data": {
            "text/plain": [
              "(2, 1)"
            ]
          },
          "metadata": {
            "tags": []
          },
          "execution_count": 29
        }
      ]
    },
    {
      "cell_type": "code",
      "metadata": {
        "id": "S3uYKp0gHey-",
        "outputId": "d3b8b5cc-4155-4a86-9a04-103238a00b13",
        "colab": {
          "base_uri": "https://localhost:8080/"
        }
      },
      "source": [
        "print(pow(2,3)) # power function\n",
        "print(2^3) # gives output one, so ^ does not work as power"
      ],
      "execution_count": 6,
      "outputs": [
        {
          "output_type": "execute_result",
          "data": {
            "text/plain": [
              "1"
            ]
          },
          "metadata": {},
          "execution_count": 6
        }
      ]
    },
    {
      "cell_type": "markdown",
      "metadata": {
        "id": "e0lPv506Hey-"
      },
      "source": [
        "## Print\n",
        "\n",
        "\n",
        "In Python, single, double and triple quotes are used to denote a string. *Most* use single quotes when declaring a single character. Double quotes when declaring a line and triple quotes when declaring a paragraph/multiple lines.\n",
        "\n",
        "**but the above is simple convetion?**"
      ]
    },
    {
      "cell_type": "code",
      "metadata": {
        "id": "awSQ04seHey-",
        "outputId": "6dc6306b-ca6c-48fb-fd2a-cb322c7ae573"
      },
      "source": [
        "print('H')"
      ],
      "execution_count": null,
      "outputs": [
        {
          "output_type": "stream",
          "text": [
            "H\n"
          ],
          "name": "stdout"
        }
      ]
    },
    {
      "cell_type": "code",
      "metadata": {
        "id": "Tpui8PXzHey_",
        "outputId": "3c92e838-48b9-4a15-864c-e7ceddcd28dd"
      },
      "source": [
        "print(\"Hello World\")"
      ],
      "execution_count": null,
      "outputs": [
        {
          "output_type": "stream",
          "text": [
            "Hello World\n"
          ],
          "name": "stdout"
        }
      ]
    },
    {
      "cell_type": "code",
      "metadata": {
        "id": "NvTicvWOHey_",
        "outputId": "bf2595a2-00b5-41b9-9a91-b4a1eab95b95",
        "colab": {
          "base_uri": "https://localhost:8080/"
        }
      },
      "source": [
        "print(\"\"\"I am from Essex. \n",
        "I love Python.\"\"\") # an enter is read as an enter. no need for extra stuff to denote this"
      ],
      "execution_count": 8,
      "outputs": [
        {
          "output_type": "stream",
          "name": "stdout",
          "text": [
            "I am from Essex. \n",
            "I love Python.\n"
          ]
        }
      ]
    },
    {
      "cell_type": "code",
      "metadata": {
        "id": "cG6FKwn0Hey_",
        "outputId": "836dc637-f2c7-4abf-aa80-38cb6f3b286d",
        "colab": {
          "base_uri": "https://localhost:8080/"
        }
      },
      "source": [
        "string1 = \"World\"\n",
        "print(\"Hello\", string1)"
      ],
      "execution_count": 10,
      "outputs": [
        {
          "output_type": "stream",
          "name": "stdout",
          "text": [
            "Hello World\n"
          ]
        }
      ]
    },
    {
      "cell_type": "code",
      "metadata": {
        "id": "AEJwrsrLHezA",
        "outputId": "3fa2d983-9fa2-4e5d-d6f9-cd9fc2009025"
      },
      "source": [
        "string2 = '!'\n",
        "print(\"Hello\", string1, string2)"
      ],
      "execution_count": null,
      "outputs": [
        {
          "output_type": "stream",
          "text": [
            "Hello World !\n"
          ],
          "name": "stdout"
        }
      ]
    },
    {
      "cell_type": "code",
      "metadata": {
        "id": "NtLNDD0EHezA",
        "outputId": "e0213f2d-cb95-4fd3-8276-f3c0cd7ef1d6"
      },
      "source": [
        "print(\"Hello\" + string1 + string2)"
      ],
      "execution_count": null,
      "outputs": [
        {
          "output_type": "stream",
          "text": [
            "HelloWorld!\n"
          ],
          "name": "stdout"
        }
      ]
    },
    {
      "cell_type": "code",
      "metadata": {
        "id": "xL047F7qHezA",
        "outputId": "e0176a8f-e021-4e13-c33d-3154e3427dcc",
        "colab": {
          "base_uri": "https://localhost:8080/"
        }
      },
      "source": [
        "print(\"Hello %s\" % string1) # %s denotes to read 'variable string1'  as a string\n",
        "                            # but also is you telling the print the value type of that variable. \n",
        "print(\"Hello %d\" % string1) # throws an error because you cannot read a string as a diggit \n",
        "                              # however working with numbers, you can change to presentation format around\n",
        "                              # e.g., see cellblock below.\n",
        "# the % before string1 = Python code quirks ->w/out just does not run"
      ],
      "execution_count": 15,
      "outputs": [
        {
          "output_type": "stream",
          "name": "stdout",
          "text": [
            "Hello World\n"
          ]
        }
      ]
    },
    {
      "cell_type": "code",
      "metadata": {
        "id": "jpz-UfI7HezA",
        "outputId": "5f85da2c-4344-483d-f485-ca65b22a974b"
      },
      "source": [
        "print(\"Actual Number = %d\" %18)\n",
        "print(\"Float of the number = %f\" %18) # float is decimal value"
      ],
      "execution_count": null,
      "outputs": [
        {
          "output_type": "stream",
          "text": [
            "Actual Number = 18\n",
            "Float of the number = 18.000000\n"
          ],
          "name": "stdout"
        }
      ]
    },
    {
      "cell_type": "code",
      "metadata": {
        "id": "1lU4rsAuHezA",
        "outputId": "02fa915c-b9db-49ee-cd12-39631f874105"
      },
      "source": [
        "print(\"Hello %s %s\" %(string1,string2))"
      ],
      "execution_count": null,
      "outputs": [
        {
          "output_type": "stream",
          "text": [
            "Hello World !\n"
          ],
          "name": "stdout"
        }
      ]
    },
    {
      "cell_type": "code",
      "metadata": {
        "id": "0slTpDZtHezB"
      },
      "source": [
        ""
      ],
      "execution_count": null,
      "outputs": []
    }
  ]
}