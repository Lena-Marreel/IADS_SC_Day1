{
  "nbformat": 4,
  "nbformat_minor": 0,
  "metadata": {
    "colab": {
      "name": "Untitled0.ipynb",
      "provenance": [],
      "authorship_tag": "ABX9TyM1bOLV8eTYBvP+dcf8BXEy",
      "include_colab_link": true
    },
    "kernelspec": {
      "name": "python3",
      "display_name": "Python 3"
    },
    "language_info": {
      "name": "python"
    }
  },
  "cells": [
    {
      "cell_type": "markdown",
      "metadata": {
        "id": "view-in-github",
        "colab_type": "text"
      },
      "source": [
        "<a href=\"https://colab.research.google.com/github/Lena-Marreel/IADS_SC_Day1/blob/main/Untitled0_FirstPlayWithColabPyhthonstuff.ipynb\" target=\"_parent\"><img src=\"https://colab.research.google.com/assets/colab-badge.svg\" alt=\"Open In Colab\"/></a>"
      ]
    },
    {
      "cell_type": "code",
      "source": [
        "Write code to execute and ish\n"
      ],
      "metadata": {
        "id": "1_-VRwTYjW6g"
      },
      "execution_count": null,
      "outputs": []
    },
    {
      "cell_type": "markdown",
      "source": [
        "You can use the text sections as comments. This feels a lot like Markdown. \n",
        "\n"
      ],
      "metadata": {
        "id": "y67KEzcijeBg"
      }
    },
    {
      "cell_type": "code",
      "source": [
        "# however to write comments in python code sections (calls) use the '#' = like in R (Matlab uses %)"
      ],
      "metadata": {
        "id": "Z1WKrwzDs_Iz"
      },
      "execution_count": null,
      "outputs": []
    },
    {
      "cell_type": "markdown",
      "source": [
        "- save in to repository\n",
        "- next day open again in colab and make changes \n",
        "- -> after changes do again ' save in github -> repository'  wil overwrite previous file with same name. = updated with new changes \n",
        "- -> if you do not want this -> change name \n",
        "\n",
        "unfortunately ' ctrl+s' will prompt to save in google drive"
      ],
      "metadata": {
        "id": "5BOEoSeG1YGn"
      }
    },
    {
      "cell_type": "code",
      "source": [
        ""
      ],
      "metadata": {
        "id": "upXnvEDY1vDO"
      },
      "execution_count": null,
      "outputs": []
    }
  ]
}