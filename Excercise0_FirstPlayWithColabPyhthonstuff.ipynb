{
  "nbformat": 4,
  "nbformat_minor": 0,
  "metadata": {
    "colab": {
      "name": "Untitled0.ipynb",
      "provenance": [],
      "authorship_tag": "ABX9TyOOnair4GAgjdS1aoGZ/lwn",
      "include_colab_link": true
    },
    "kernelspec": {
      "name": "python3",
      "display_name": "Python 3"
    },
    "language_info": {
      "name": "python"
    }
  },
  "cells": [
    {
      "cell_type": "markdown",
      "metadata": {
        "id": "view-in-github",
        "colab_type": "text"
      },
      "source": [
        "<a href=\"https://colab.research.google.com/github/Lena-Marreel/IADS_SC_Day1/blob/main/Excercise0_FirstPlayWithColabPyhthonstuff.ipynb\" target=\"_parent\"><img src=\"https://colab.research.google.com/assets/colab-badge.svg\" alt=\"Open In Colab\"/></a>"
      ]
    },
    {
      "cell_type": "code",
      "source": [
        "Write code to execute and ish\n"
      ],
      "metadata": {
        "id": "1_-VRwTYjW6g"
      },
      "execution_count": null,
      "outputs": []
    },
    {
      "cell_type": "markdown",
      "source": [
        "You can use the text sections as comments. This feels a lot like Markdown. \n",
        "\n"
      ],
      "metadata": {
        "id": "y67KEzcijeBg"
      }
    },
    {
      "cell_type": "code",
      "source": [
        "# however to write comments in python code sections (calls) use the '#' = like in R (Matlab uses %)"
      ],
      "metadata": {
        "id": "Z1WKrwzDs_Iz"
      },
      "execution_count": null,
      "outputs": []
    },
    {
      "cell_type": "markdown",
      "source": [
        "- save in to repository\n",
        "- next day open again in colab and make changes \n",
        "- -> after changes do again ' save in github -> repository'  wil overwrite previous file with same name. = updated with new changes \n",
        "- -> if you do not want this -> change name \n",
        "\n",
        "unfortunately ' ctrl+s' will prompt to save in google drive"
      ],
      "metadata": {
        "id": "5BOEoSeG1YGn"
      }
    },
    {
      "cell_type": "code",
      "source": [
        "# if you want to get ouput from several lines in one code cell\n",
        "# -> need to use print()\n",
        "# e.g., 1+5 -> would print 6\n",
        "# but\n",
        "#   1+5\n",
        "#   1*5 \n",
        "# would only print the final value '5' \n",
        "\n",
        "# if you want both 1+5 and 1*5 to show -> use print() for both"
      ],
      "metadata": {
        "id": "upXnvEDY1vDO"
      },
      "execution_count": null,
      "outputs": []
    },
    {
      "cell_type": "code",
      "source": [
        "# even if we run code in seperate cells in these ipybc files\n",
        "# all variables work in the same enviorment \n",
        "# so a variable declared in one cell will carry on to the next\n",
        "# (e.g. see blocks below)\n",
        "\n",
        "a = 1\n"
      ],
      "metadata": {
        "id": "M5ZoY3HS24Ag"
      },
      "execution_count": null,
      "outputs": []
    },
    {
      "cell_type": "code",
      "source": [
        "b = 5"
      ],
      "metadata": {
        "id": "avh6hMa24giw"
      },
      "execution_count": null,
      "outputs": []
    },
    {
      "cell_type": "code",
      "source": [
        "# this is a different cell, but because I ran the above two should be fine\n",
        "a+b\n",
        "# if I had not run the cells above, would not work"
      ],
      "metadata": {
        "id": "yy_hNcEp425I",
        "outputId": "87a8bd36-5f58-4432-cc9b-b0e48b9e43b1",
        "colab": {
          "base_uri": "https://localhost:8080/"
        }
      },
      "execution_count": null,
      "outputs": [
        {
          "output_type": "execute_result",
          "data": {
            "text/plain": [
              "6"
            ]
          },
          "metadata": {},
          "execution_count": 4
        }
      ]
    },
    {
      "cell_type": "code",
      "source": [
        "# help functions in python\n",
        "# either\n",
        "help(len)\n",
        "#or hover over the function and it also gives basic information \n",
        "# or https://www.geeksforgeeks.org/help-function-in-python/"
      ],
      "metadata": {
        "id": "8C5H4EOMAkO2",
        "outputId": "7f1cf0d2-c489-4e0a-8d4c-6462983174b8",
        "colab": {
          "base_uri": "https://localhost:8080/"
        }
      },
      "execution_count": null,
      "outputs": [
        {
          "output_type": "stream",
          "name": "stdout",
          "text": [
            "Help on built-in function len in module builtins:\n",
            "\n",
            "len(obj, /)\n",
            "    Return the number of items in a container.\n",
            "\n"
          ]
        }
      ]
    },
    {
      "cell_type": "code",
      "source": [
        "# seems python uses following format to apply functions to variables/ lists\n",
        "# = variablename .(dot) theFunctionYouWanttoUse\n",
        "# e.g.,\n",
        "\n",
        "AlistVariable = [1, 5 , 6]\n",
        "Another =[2,3,4]\n",
        "\n",
        "# to combinde them use extend() function\n",
        "AlistVariable.extend(Another)\n",
        "print(AlistVariable)"
      ],
      "metadata": {
        "id": "1KAJ5oFiHtf-",
        "outputId": "b77295a1-cab6-4345-f37f-c4e11ce8e99c",
        "colab": {
          "base_uri": "https://localhost:8080/"
        }
      },
      "execution_count": null,
      "outputs": [
        {
          "output_type": "stream",
          "name": "stdout",
          "text": [
            "[1, 5, 6, 2, 3, 4]\n"
          ]
        }
      ]
    },
    {
      "cell_type": "code",
      "source": [
        "# excercise 4\n",
        "# control flow statements (e.g., for loops)\n",
        "\n",
        "# importance of indentation in python\n",
        "  # what python uses to identify what belongs to which statement\n",
        "  # i.e., your output statement has to be on the right hand side\n",
        "  # the below are identical but only one will run\n",
        "x = 12\n",
        "if x >10:\n",
        "    print(\"Hello1\")\n",
        "\n",
        "y = 12\n",
        "if y >10:\n",
        "  print(\"Hello2\")\n",
        "\n",
        "z = 12\n",
        "if z >10:\n",
        "print(\"Hello3\")"
      ],
      "metadata": {
        "colab": {
          "base_uri": "https://localhost:8080/",
          "height": 130
        },
        "id": "dUM_pbKTezYB",
        "outputId": "ef2948ae-cf60-4699-d0a4-ffbde676c695"
      },
      "execution_count": null,
      "outputs": [
        {
          "output_type": "error",
          "ename": "IndentationError",
          "evalue": "ignored",
          "traceback": [
            "\u001b[0;36m  File \u001b[0;32m\"<ipython-input-1-ec1014fc72e2>\"\u001b[0;36m, line \u001b[0;32m12\u001b[0m\n\u001b[0;31m    print(\"Hello\")\u001b[0m\n\u001b[0m        ^\u001b[0m\n\u001b[0;31mIndentationError\u001b[0m\u001b[0;31m:\u001b[0m expected an indented block\n"
          ]
        }
      ]
    },
    {
      "cell_type": "markdown",
      "source": [
        "To work with data in Colab\n",
        "(if getting data from online source -> download first to your computer)\n",
        "-> left hand side click on folder icon![Capture1.PNG](data:image/png;base64,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)\n",
        "\n",
        "then click on session storage = upload data file from pc \n",
        "![image.png](data:image/png;base64,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)\n",
        "Then continue on importing fiel in COLAB"
      ],
      "metadata": {
        "id": "mO-w3fOU3t0Z"
      }
    }
  ]
}