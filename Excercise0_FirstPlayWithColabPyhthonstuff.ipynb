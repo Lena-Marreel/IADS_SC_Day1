{
  "nbformat": 4,
  "nbformat_minor": 0,
  "metadata": {
    "colab": {
      "name": "Untitled0.ipynb",
      "provenance": [],
      "authorship_tag": "ABX9TyNmIf7Nt/Lmkthdu4WD7L1o",
      "include_colab_link": true
    },
    "kernelspec": {
      "name": "python3",
      "display_name": "Python 3"
    },
    "language_info": {
      "name": "python"
    }
  },
  "cells": [
    {
      "cell_type": "markdown",
      "metadata": {
        "id": "view-in-github",
        "colab_type": "text"
      },
      "source": [
        "<a href=\"https://colab.research.google.com/github/Lena-Marreel/IADS_SC_Day1/blob/main/Untitled0_FirstPlayWithColabPyhthonstuff.ipynb\" target=\"_parent\"><img src=\"https://colab.research.google.com/assets/colab-badge.svg\" alt=\"Open In Colab\"/></a>"
      ]
    },
    {
      "cell_type": "code",
      "source": [
        "Write code to execute and ish\n"
      ],
      "metadata": {
        "id": "1_-VRwTYjW6g"
      },
      "execution_count": null,
      "outputs": []
    },
    {
      "cell_type": "markdown",
      "source": [
        "You can use the text sections as comments. This feels a lot like Markdown. \n",
        "\n"
      ],
      "metadata": {
        "id": "y67KEzcijeBg"
      }
    },
    {
      "cell_type": "code",
      "source": [
        "# however to write comments in python code sections (calls) use the '#' = like in R (Matlab uses %)"
      ],
      "metadata": {
        "id": "Z1WKrwzDs_Iz"
      },
      "execution_count": null,
      "outputs": []
    },
    {
      "cell_type": "markdown",
      "source": [
        "- save in to repository\n",
        "- next day open again in colab and make changes \n",
        "- -> after changes do again ' save in github -> repository'  wil overwrite previous file with same name. = updated with new changes \n",
        "- -> if you do not want this -> change name \n",
        "\n",
        "unfortunately ' ctrl+s' will prompt to save in google drive"
      ],
      "metadata": {
        "id": "5BOEoSeG1YGn"
      }
    },
    {
      "cell_type": "code",
      "source": [
        "# if you want to get ouput from several lines in one code cell\n",
        "# -> need to use print()\n",
        "# e.g., 1+5 -> would print 6\n",
        "# but\n",
        "#   1+5\n",
        "#   1*5 \n",
        "# would only print the final value '5' \n",
        "\n",
        "# if you want both 1+5 and 1*5 to show -> use print() for both"
      ],
      "metadata": {
        "id": "upXnvEDY1vDO"
      },
      "execution_count": null,
      "outputs": []
    },
    {
      "cell_type": "code",
      "source": [
        "# even if we run code in seperate cells in these ipybc files\n",
        "# all variables work in the same enviorment \n",
        "# so a variable declared in one cell will carry on to the next\n",
        "# (e.g. see blocks below)\n",
        "\n",
        "a = 1\n"
      ],
      "metadata": {
        "id": "M5ZoY3HS24Ag"
      },
      "execution_count": null,
      "outputs": []
    },
    {
      "cell_type": "code",
      "source": [
        "b = 5"
      ],
      "metadata": {
        "id": "avh6hMa24giw"
      },
      "execution_count": null,
      "outputs": []
    },
    {
      "cell_type": "code",
      "source": [
        "# this is a different cell, but because I ran the above two should be fine\n",
        "a+b\n",
        "# if I had not run the cells above, would not work"
      ],
      "metadata": {
        "id": "yy_hNcEp425I",
        "outputId": "87a8bd36-5f58-4432-cc9b-b0e48b9e43b1",
        "colab": {
          "base_uri": "https://localhost:8080/"
        }
      },
      "execution_count": null,
      "outputs": [
        {
          "output_type": "execute_result",
          "data": {
            "text/plain": [
              "6"
            ]
          },
          "metadata": {},
          "execution_count": 4
        }
      ]
    },
    {
      "cell_type": "code",
      "source": [
        "# help functions in python\n",
        "# either\n",
        "help(len)\n",
        "#or hover over the function and it also gives basic information \n",
        "# or https://www.geeksforgeeks.org/help-function-in-python/"
      ],
      "metadata": {
        "id": "8C5H4EOMAkO2",
        "outputId": "7f1cf0d2-c489-4e0a-8d4c-6462983174b8",
        "colab": {
          "base_uri": "https://localhost:8080/"
        }
      },
      "execution_count": null,
      "outputs": [
        {
          "output_type": "stream",
          "name": "stdout",
          "text": [
            "Help on built-in function len in module builtins:\n",
            "\n",
            "len(obj, /)\n",
            "    Return the number of items in a container.\n",
            "\n"
          ]
        }
      ]
    },
    {
      "cell_type": "code",
      "source": [
        "# seems python uses following format to apply functions to variables/ lists\n",
        "# = variablename .(dot) theFunctionYouWanttoUse\n",
        "# e.g.,\n",
        "\n",
        "AlistVariable = [1, 5 , 6]\n",
        "Another =[2,3,4]\n",
        "\n",
        "# to combinde them use extend() function\n",
        "AlistVariable.extend(Another)\n",
        "print(AlistVariable)"
      ],
      "metadata": {
        "id": "1KAJ5oFiHtf-",
        "outputId": "b77295a1-cab6-4345-f37f-c4e11ce8e99c",
        "colab": {
          "base_uri": "https://localhost:8080/"
        }
      },
      "execution_count": null,
      "outputs": [
        {
          "output_type": "stream",
          "name": "stdout",
          "text": [
            "[1, 5, 6, 2, 3, 4]\n"
          ]
        }
      ]
    },
    {
      "cell_type": "code",
      "source": [
        "# excercise 4\n",
        "# control flow statements (e.g., for loops)\n",
        "\n",
        "# importance of indentation in python\n",
        "  # the below are identical but only one will run\n",
        "x = 12\n",
        "if x >10:\n",
        "    print(\"Hello\")\n",
        "\n",
        "y = 12\n",
        "if y >10:\n",
        "print(\"Hello\")"
      ],
      "metadata": {
        "id": "dUM_pbKTezYB",
        "outputId": "ef2948ae-cf60-4699-d0a4-ffbde676c695",
        "colab": {
          "base_uri": "https://localhost:8080/",
          "height": 130
        }
      },
      "execution_count": 1,
      "outputs": [
        {
          "output_type": "error",
          "ename": "IndentationError",
          "evalue": "ignored",
          "traceback": [
            "\u001b[0;36m  File \u001b[0;32m\"<ipython-input-1-ec1014fc72e2>\"\u001b[0;36m, line \u001b[0;32m12\u001b[0m\n\u001b[0;31m    print(\"Hello\")\u001b[0m\n\u001b[0m        ^\u001b[0m\n\u001b[0;31mIndentationError\u001b[0m\u001b[0;31m:\u001b[0m expected an indented block\n"
          ]
        }
      ]
    }
  ]
}
